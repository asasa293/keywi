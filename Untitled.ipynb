{
 "cells": [
  {
   "cell_type": "code",
   "execution_count": 1,
   "id": "94439ee1",
   "metadata": {},
   "outputs": [],
   "source": [
    "import pandas as pd"
   ]
  },
  {
   "cell_type": "code",
   "execution_count": 37,
   "id": "6207512b",
   "metadata": {},
   "outputs": [],
   "source": [
    "month_map = {\n",
    "    'Jan': 'January',\n",
    "    'Feb': 'February',\n",
    "    'Mar': 'March',\n",
    "    'Apr': 'April',\n",
    "    'May': 'May',\n",
    "    'Jun': 'June',\n",
    "    'Jul': 'July',\n",
    "    'Aug': 'August',\n",
    "    'Sep': 'September',\n",
    "    'Oct': 'October',\n",
    "    'Nov': 'November',\n",
    "    'Dec': 'December'\n",
    "}\n",
    "\n",
    "month_num = {'January': 1, 'February': 4, 'March': 16, 'April': 64, 'May': 256, 'June': 1042,\n",
    "             'July': 4096, 'August': 16384, 'September': 65536, 'October': 262144, 'November': 1048576,\n",
    "             'December': 4194304}"
   ]
  },
  {
   "cell_type": "code",
   "execution_count": 45,
   "id": "18a5b838",
   "metadata": {},
   "outputs": [],
   "source": [
    "sales_df = pd.read_csv(\"sales.csv\")\n",
    "sales_df['Month Number'] = sales_df['Month'].map(month_num)\n",
    "\n",
    "cogs_df = pd.read_csv(\"COGS.csv\")\n",
    "cogs_df['Month'] = cogs_df['Month'].map(month_map)\n",
    "cogs_df['Month Number'] = cogs_df['Month'].map(month_num)"
   ]
  },
  {
   "cell_type": "code",
   "execution_count": 43,
   "id": "07783210",
   "metadata": {},
   "outputs": [
    {
     "data": {
      "text/html": [
       "<div>\n",
       "<style scoped>\n",
       "    .dataframe tbody tr th:only-of-type {\n",
       "        vertical-align: middle;\n",
       "    }\n",
       "\n",
       "    .dataframe tbody tr th {\n",
       "        vertical-align: top;\n",
       "    }\n",
       "\n",
       "    .dataframe thead th {\n",
       "        text-align: right;\n",
       "    }\n",
       "</style>\n",
       "<table border=\"1\" class=\"dataframe\">\n",
       "  <thead>\n",
       "    <tr style=\"text-align: right;\">\n",
       "      <th></th>\n",
       "      <th>Total NET Sales ($)</th>\n",
       "      <th>Month Number</th>\n",
       "    </tr>\n",
       "    <tr>\n",
       "      <th>Month</th>\n",
       "      <th></th>\n",
       "      <th></th>\n",
       "    </tr>\n",
       "  </thead>\n",
       "  <tbody>\n",
       "    <tr>\n",
       "      <th>January</th>\n",
       "      <td>524949.47</td>\n",
       "      <td>730</td>\n",
       "    </tr>\n",
       "    <tr>\n",
       "      <th>February</th>\n",
       "      <td>497379.01</td>\n",
       "      <td>3124</td>\n",
       "    </tr>\n",
       "    <tr>\n",
       "      <th>March</th>\n",
       "      <td>443376.34</td>\n",
       "      <td>12352</td>\n",
       "    </tr>\n",
       "  </tbody>\n",
       "</table>\n",
       "</div>"
      ],
      "text/plain": [
       "          Total NET Sales ($)  Month Number\n",
       "Month                                      \n",
       "January             524949.47           730\n",
       "February            497379.01          3124\n",
       "March               443376.34         12352"
      ]
     },
     "execution_count": 43,
     "metadata": {},
     "output_type": "execute_result"
    }
   ],
   "source": [
    "sales_df_g = sales_df.groupby(by=[\"Month\"]).sum(numeric_only=True).sort_values(by=\"Month\")[['Total NET Sales ($)','Month Number']]\n",
    "sales_df_g"
   ]
  },
  {
   "cell_type": "code",
   "execution_count": 50,
   "id": "3f2a955e",
   "metadata": {},
   "outputs": [
    {
     "data": {
      "text/html": [
       "<div>\n",
       "<style scoped>\n",
       "    .dataframe tbody tr th:only-of-type {\n",
       "        vertical-align: middle;\n",
       "    }\n",
       "\n",
       "    .dataframe tbody tr th {\n",
       "        vertical-align: top;\n",
       "    }\n",
       "\n",
       "    .dataframe thead th {\n",
       "        text-align: right;\n",
       "    }\n",
       "</style>\n",
       "<table border=\"1\" class=\"dataframe\">\n",
       "  <thead>\n",
       "    <tr style=\"text-align: right;\">\n",
       "      <th></th>\n",
       "      <th>Sum of Amount</th>\n",
       "      <th>Month Number</th>\n",
       "    </tr>\n",
       "    <tr>\n",
       "      <th>Month</th>\n",
       "      <th></th>\n",
       "      <th></th>\n",
       "    </tr>\n",
       "  </thead>\n",
       "  <tbody>\n",
       "    <tr>\n",
       "      <th>January</th>\n",
       "      <td>400718.169977</td>\n",
       "      <td>58</td>\n",
       "    </tr>\n",
       "    <tr>\n",
       "      <th>February</th>\n",
       "      <td>367929.269968</td>\n",
       "      <td>272</td>\n",
       "    </tr>\n",
       "    <tr>\n",
       "      <th>March</th>\n",
       "      <td>349127.509961</td>\n",
       "      <td>1072</td>\n",
       "    </tr>\n",
       "  </tbody>\n",
       "</table>\n",
       "</div>"
      ],
      "text/plain": [
       "          Sum of Amount  Month Number\n",
       "Month                                \n",
       "January   400718.169977            58\n",
       "February  367929.269968           272\n",
       "March     349127.509961          1072"
      ]
     },
     "execution_count": 50,
     "metadata": {},
     "output_type": "execute_result"
    }
   ],
   "source": [
    "cogs_df_g = cogs_df.groupby(by=[\"Month\"]).sum(numeric_only=True).sort_values(by=\"Month Number\")[['Sum of Amount','Month Number']].sort_values(by=\"Month Number\")\n",
    "cogs_df_g"
   ]
  },
  {
   "cell_type": "code",
   "execution_count": 51,
   "id": "77bbf53c",
   "metadata": {},
   "outputs": [
    {
     "data": {
      "text/plain": [
       "Month\n",
       "January     124231.300023\n",
       "February    129449.740032\n",
       "March        94248.830039\n",
       "dtype: float64"
      ]
     },
     "execution_count": 51,
     "metadata": {},
     "output_type": "execute_result"
    }
   ],
   "source": [
    "df2 = sales_df_g['Total NET Sales ($)'] - cogs_df_g['Sum of Amount']\n",
    "df2"
   ]
  },
  {
   "cell_type": "code",
   "execution_count": 52,
   "id": "977bf876",
   "metadata": {},
   "outputs": [
    {
     "data": {
      "text/html": [
       "<div>\n",
       "<style scoped>\n",
       "    .dataframe tbody tr th:only-of-type {\n",
       "        vertical-align: middle;\n",
       "    }\n",
       "\n",
       "    .dataframe tbody tr th {\n",
       "        vertical-align: top;\n",
       "    }\n",
       "\n",
       "    .dataframe thead th {\n",
       "        text-align: right;\n",
       "    }\n",
       "</style>\n",
       "<table border=\"1\" class=\"dataframe\">\n",
       "  <thead>\n",
       "    <tr style=\"text-align: right;\">\n",
       "      <th></th>\n",
       "      <th>Month</th>\n",
       "      <th>Gross Profit</th>\n",
       "    </tr>\n",
       "  </thead>\n",
       "  <tbody>\n",
       "    <tr>\n",
       "      <th>0</th>\n",
       "      <td>January</td>\n",
       "      <td>124231.300023</td>\n",
       "    </tr>\n",
       "    <tr>\n",
       "      <th>1</th>\n",
       "      <td>February</td>\n",
       "      <td>129449.740032</td>\n",
       "    </tr>\n",
       "    <tr>\n",
       "      <th>2</th>\n",
       "      <td>March</td>\n",
       "      <td>94248.830039</td>\n",
       "    </tr>\n",
       "  </tbody>\n",
       "</table>\n",
       "</div>"
      ],
      "text/plain": [
       "      Month   Gross Profit\n",
       "0   January  124231.300023\n",
       "1  February  129449.740032\n",
       "2     March   94248.830039"
      ]
     },
     "execution_count": 52,
     "metadata": {},
     "output_type": "execute_result"
    }
   ],
   "source": [
    "new_df = pd.DataFrame({\n",
    "    'Month': sales_df_g.index,\n",
    "    'Gross Profit': df2.values\n",
    "})\n",
    "\n",
    "new_df"
   ]
  },
  {
   "cell_type": "code",
   "execution_count": null,
   "id": "e95ed8b2",
   "metadata": {},
   "outputs": [],
   "source": []
  },
  {
   "cell_type": "code",
   "execution_count": null,
   "id": "40292ae0",
   "metadata": {},
   "outputs": [],
   "source": []
  },
  {
   "cell_type": "code",
   "execution_count": null,
   "id": "3be10b9a",
   "metadata": {},
   "outputs": [],
   "source": []
  },
  {
   "cell_type": "code",
   "execution_count": null,
   "id": "96fd8c13",
   "metadata": {},
   "outputs": [],
   "source": []
  },
  {
   "cell_type": "code",
   "execution_count": null,
   "id": "fea4463c",
   "metadata": {},
   "outputs": [],
   "source": []
  },
  {
   "cell_type": "code",
   "execution_count": null,
   "id": "e2d7defa",
   "metadata": {},
   "outputs": [],
   "source": []
  },
  {
   "cell_type": "code",
   "execution_count": null,
   "id": "f79870bc",
   "metadata": {},
   "outputs": [],
   "source": []
  },
  {
   "cell_type": "code",
   "execution_count": 19,
   "id": "99be3e44",
   "metadata": {},
   "outputs": [],
   "source": [
    "y = \"Hola\""
   ]
  },
  {
   "cell_type": "code",
   "execution_count": 27,
   "id": "ce25cd96",
   "metadata": {},
   "outputs": [],
   "source": [
    "z = \"y adios\""
   ]
  },
  {
   "cell_type": "code",
   "execution_count": 24,
   "id": "437112f7",
   "metadata": {},
   "outputs": [
    {
     "data": {
      "text/plain": [
       "'El dijo Hola y adios]'"
      ]
     },
     "execution_count": 24,
     "metadata": {},
     "output_type": "execute_result"
    }
   ],
   "source": [
    "x = 'El dijo {} {}'.format(y, z)\n",
    "x"
   ]
  },
  {
   "cell_type": "code",
   "execution_count": null,
   "id": "5593f433",
   "metadata": {},
   "outputs": [],
   "source": []
  }
 ],
 "metadata": {
  "kernelspec": {
   "display_name": "Python 3 (ipykernel)",
   "language": "python",
   "name": "python3"
  },
  "language_info": {
   "codemirror_mode": {
    "name": "ipython",
    "version": 3
   },
   "file_extension": ".py",
   "mimetype": "text/x-python",
   "name": "python",
   "nbconvert_exporter": "python",
   "pygments_lexer": "ipython3",
   "version": "3.11.2"
  }
 },
 "nbformat": 4,
 "nbformat_minor": 5
}
